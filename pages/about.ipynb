{
 "cells": [
  {
   "cell_type": "markdown",
   "id": "9cbc79e0",
   "metadata": {},
   "source": [
    "### Michael Kaufman\n",
    "Hello, I recently completed my PhD in a graduate program in Cell, Stem Cell, and Developmental Biology at the University of Colorado Anschutz Medical Campus. I am now working in a Bioinformatics focused post doc position. Along the course of my training I will be using this space to take notes and document my progress."
   ]
  },
  {
   "cell_type": "markdown",
   "id": "27e985cb",
   "metadata": {},
   "source": []
  }
 ],
 "metadata": {
  "kernelspec": {
   "display_name": "Python 3 (ipykernel)",
   "env": {},
   "interrupt_mode": "signal",
   "language": "python",
   "metadata": {
    "debugger": true
   },
   "name": "python3"
  },
  "nikola": {
   "category": "",
   "date": "2021-09-30 13:37:07 UTC-06:00",
   "description": "",
   "link": "",
   "slug": "about",
   "tags": "",
   "title": "About",
   "type": "text"
  }
 },
 "nbformat": 4,
 "nbformat_minor": 5
}
