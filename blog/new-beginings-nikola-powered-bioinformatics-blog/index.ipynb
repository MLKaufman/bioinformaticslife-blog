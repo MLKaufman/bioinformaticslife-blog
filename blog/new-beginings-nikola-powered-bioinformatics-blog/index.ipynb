{
 "cells": [
  {
   "cell_type": "markdown",
   "source": [
    "Tagged: nikola, blog, jupyter, colab\n",
    "\n",
    "---\n",
    "\n"
   ],
   "metadata": {
    "id": "lo8vvA4LAmDv"
   }
  },
  {
   "cell_type": "markdown",
   "source": [
    "## Introduction\n",
    "Having recently completed my PhD thesis work, I have begun to shift gears in terms of the type of my research and training. For the last 15 years in the biological sciences I have been primarily at the bench performing 'wet' lab experiments and only supporting them a small fraction of the time using computational approaches. Now as I begin my post doctoral training my focus will be in the persuit of applying computational and bioinformatics approaches full-time. To facilitate this I have decided to document the process and the recipes gathered along the way by means of this static blog site deployed from GitHub and managed using the Python package Nikola.  \n",
    "\n",
    "### Why a static site?  \n",
    "A static site is free from server side code and has minimal hosting requirements.  This allows for a lightweight site based on mostly pure HTML. Many hosting solutions will also serve your static website for free such as GitHub and DigitalOcean.\n",
    "\n",
    "### Site requirements\n",
    "There are multiple goals for this project that require proper documentation of coding, pipelines, and workflows related to bioinformatics. Therefore I came up with several required capabilities for the blog site.\n",
    "\n",
    "*   static site (pre-generated HTML with no need for server side processing)\n",
    "*   ability to post formated highlighted code and output\n",
    "*   support for displaying multiple languages (Python, R, bash, etc.)\n",
    "*   ability to use multiple source documents (reStructured txt, markdown, Jupyter .ipynb)  \n",
    "* deploy from GitHub (CI/CD)\n",
    "---"
   ],
   "metadata": {
    "id": "OtfCkG6VDW7y"
   }
  },
  {
   "cell_type": "markdown",
   "source": [
    "## The Setup\n",
    "Ultimately the tool that fit all of the requirements above was [Nikola](https://getnikola.com/). This is a static site generator that is fully featured with many plugins. Basically it is a command line tool that manages local folders on your computer. You create a blog post using reStructured txt, markdown, or Jupyter .ipynb and then using the command line tool add it to the Nikola managed site source. Luckily all the features we need come built-in without having to install any additional plugins.\n",
    "\n",
    "### Install Nikola\n",
    "I use [pipx](https://github.com/pypa/pipx) as a way to isolate python packages into their own environment and run them as command line tools. It is essentially python pip but installs each package and its requirements in a way that doesn't conflict with anything else on the system. Pipx also places executables and scripts in your path so that they can be run on the command line. (In the future I will dive deeper into my local setup.) Installing Nikola with pipx is as simple as:\n",
    "\n",
    "`pipx install Nikola[extras]`  \n",
    "`pipx inject Nikola ghp-import --include-apps --include-deps`\n",
    "\n",
    "* `[extras]` allows some bonus features like .ipynb support.  \n",
    "* `pipx inject Nikola ghp-import` adds the extra package `ghp-import` required for `github_deploy` directly into the same virtual environment with Nikola.\n",
    "\n",
    "### Initialization\n",
    "Initializing a new blog is as simple as creating a new directory, navigating to it and running:  \n",
    "\n",
    "`nikola init`\n",
    "\n",
    "This command will walk through asking questions setting up things like blog name, authors, email, and language.  \n",
    "\n",
    "The end result of this step will create several folders and files that make up and manage the enitre blog. Importantly the `conf.py` is the configuration file that will be used to control everything from the themes, adding pages, and customizing the git settings. Couple of other folder related things to note relevant to us:\n",
    "* `posts` - Once imported or created this is the folder where it will store the raw posts after they are imported. Edit these files in the future to change or update the posts.\n",
    "* `pages` - Similar rules to the `posts` folder. This is the location for non-blog related pages such as About, Information, Contact, etc.\n",
    "* `output` - After the `nikola build` command has been run the `output` folder will be propagated with the static html files that will be the final product rendered as the blog site. This needs to rebuilt with the `build` command when any posts or pages are updated or new content imported.\n",
    "\n",
    "### Create a git repository\n",
    "Within the newly initialized Nikola folder a git repository will be setup to track development changes and for automatic deployment from GitHub.\n",
    "\n",
    "`git init . `  \n",
    "`git remote add origin https://github.com/mlkaufman/bioinformaticslife-blog.git`\n",
    "\n",
    "Create a `.gitignore` file and add the following lines: \n",
    "\n",
    "```\n",
    "  cache  \n",
    "  .doit.db*  \n",
    "  __pycache__  \n",
    "  output  \n",
    "```\n",
    "\n",
    "### Configuration and Customization\n",
    "To setup the majority of the site I distilled several tutorials starting with the one at [https://jiaweizhuang.github.io/blog/nikola-guide/](https://jiaweizhuang.github.io/blog/nikola-guide/). Customization of the blog generated by Nikola is done through editing the `config.py` file found in the root directory created upon initialization. The [Nikola handbook](https://getnikola.com/handbook.html) is a great reference. [http://www.jaakkoluttinen.fi/blog/how-to-blog-with-jupyter-ipython-notebook-and-nikola/](http://www.jaakkoluttinen.fi/blog/how-to-blog-with-jupyter-ipython-notebook-and-nikola/) was another handy tutorial for setting up the page to work with `github_deploy`.  \n",
    "  \n",
    "All of the following configurations require modification of fields in the `conf.py` file.\n",
    "\n",
    "#### Themes\n",
    "Themes are easily chosen or swapped out on the fly. A gallery of themes to preview can be viewed [here](https://themes.getnikola.com/)."
   ],
   "metadata": {
    "id": "JQ6-xgWYAtD_"
   }
  },
  {
   "cell_type": "code",
   "execution_count": null,
   "source": [
    "# Name of the theme to use.\n",
    "THEME = \"bootstrap3\"\n",
    "\n",
    "# A theme color. In default themes, it might be displayed by some browsers as\n",
    "# the browser UI color (eg. Chrome on Android). Other themes might also use it\n",
    "# as an accent color (the default ones don’t). Must be a HEX value.\n",
    "THEME_COLOR = '#5670d4'"
   ],
   "outputs": [],
   "metadata": {
    "id": "jxtdZKJPpd77"
   }
  },
  {
   "cell_type": "markdown",
   "source": [
    "#### Adding .ipynb Support\n",
    "Added lines to both the POSTS and PAGES sections to allow import handling of .ipynb files. Otherwise support is built in, why not have this in the configuration by default?"
   ],
   "metadata": {
    "id": "CBhWrT3Pp7RX"
   }
  },
  {
   "cell_type": "code",
   "execution_count": null,
   "source": [
    "POSTS = (\n",
    "    (\"posts/*.rst\", \"blog\", \"post.tmpl\"),\n",
    "    (\"posts/*.md\", \"blog\", \"post.tmpl\"),\n",
    "    (\"posts/*.txt\", \"blog\", \"post.tmpl\"),\n",
    "    (\"posts/*.html\", \"blog\", \"post.tmpl\"),\n",
    "    (\"posts/*.ipynb\", \"blog\", \"post.tmpl\"),) # added ipynb support\n",
    "\n",
    "PAGES = (\n",
    "    (\"pages/*.rst\", \"\", \"page.tmpl\"),\n",
    "    (\"pages/*.md\", \"\", \"page.tmpl\"),\n",
    "    (\"pages/*.txt\", \"\", \"page.tmpl\"),\n",
    "    (\"pages/*.html\", \"\", \"page.tmpl\"),\n",
    "    (\"pages/*.ipynb\", \"\", \"page.tmpl\"),) # added ipynb support"
   ],
   "outputs": [],
   "metadata": {
    "id": "guy_ReUIpWUk"
   }
  },
  {
   "cell_type": "markdown",
   "source": [
    "#### Getting rid of the Jupyter prompt box next to each cell\n",
    "A little hack to remove the Jupyter prompt from each of the cells. These are the [ ] boxes that are present while running the cells and is rendered as an annoying grey box in the HTML output. Removed them to make the blog look prettier. Got the styling code from [here](https://www.reddit.com/r/IPython/comments/8linhh/hide_ln_out_at_the_left_of_each_cell/)."
   ],
   "metadata": {
    "id": "uSW4xP7UL4EX"
   }
  },
  {
   "cell_type": "code",
   "execution_count": null,
   "source": [
    "EXTRA_HEAD_DATA = \"<style>.prompt{width: 0px; min-width: 0px; visibility: collapse}</style>\""
   ],
   "outputs": [],
   "metadata": {
    "id": "cDWpOkYJMCR-"
   }
  },
  {
   "cell_type": "markdown",
   "source": [
    "#### GitHub Config\n",
    "The source and deploy/output branches are listed here so that Nikola knows where to push them to for rendering the site. It pushes the source as well so a copy is kept on GitHub and version controlled."
   ],
   "metadata": {
    "id": "Koy4goSwqE80"
   }
  },
  {
   "cell_type": "code",
   "execution_count": null,
   "source": [
    "#### GitHub Support\n",
    "GITHUB_SOURCE_BRANCH = 'src'\n",
    "GITHUB_DEPLOY_BRANCH = 'main'\n",
    "\n",
    "# The name of the remote where you wish to push to, using github_deploy.\n",
    "GITHUB_REMOTE_NAME = 'origin'\n",
    "\n",
    "# Whether or not github_deploy should commit to the source branch automatically\n",
    "# before deploying.\n",
    "GITHUB_COMMIT_SOURCE = True"
   ],
   "outputs": [],
   "metadata": {
    "id": "Jo6xyU_JqH6F"
   }
  },
  {
   "cell_type": "markdown",
   "source": [
    "#### Adding a Comment System\n",
    "Nikola supports linking many different 3rd party comment systems. Went with [Disqus](https://disqus.com/) here."
   ],
   "metadata": {
    "id": "i2cZ5nHnqRmQ"
   }
  },
  {
   "cell_type": "code",
   "execution_count": null,
   "source": [
    "COMMENT_SYSTEM = \"Disqus\"\n",
    "# And you also need to add your COMMENT_SYSTEM_ID which\n",
    "# depends on what comment system you use. The default is\n",
    "# \"nikolademo\" which is a test account for Disqus. More information\n",
    "# is in the manual.\n",
    "COMMENT_SYSTEM_ID = \"\""
   ],
   "outputs": [],
   "metadata": {
    "id": "kW4w7q6UqVft"
   }
  },
  {
   "cell_type": "markdown",
   "source": [
    "#### Add CNAME file\n",
    "This command will add a CNAME file to the files folder that will redirect the webaddress without the `www` to the main site.  \n",
    "\n",
    "`echo \"bioinformaticslife.com\" > files/CNAME`"
   ],
   "metadata": {
    "id": "JO0NbZRakjgp"
   }
  },
  {
   "cell_type": "markdown",
   "source": [
    "---\n",
    "## Write - Build - Deploy Cycle\n",
    "Now that everything is configured, here I describe the workflow of producing an actual blog post.\n",
    "### Write\n",
    "As mentioned I really wanted to get the Jupyter .ipynb working as an option to make posts. This allows the direct posting of bioinformatics workflows and outputs. I played around with the idea of using a local installation of Jupyter and either using VSCode or the native web interface to interact with the Jupyter kernel and generate notebooks. I may still do this periodically in the future but for now I have settled on using [Google Colab](https://colab.research.google.com/).  \n",
    "* always in the cloud and on every computer in a browser\n",
    "* nice markdown editor and visualization\n",
    "* easy to install additional packages with `!pip install` magic commands \n",
    "* can process large files placed in Google Drive \n",
    "\n",
    "### Build\n",
    "After saving the notebook locally on the computer it can be imported to the initialized blog, the post can be added with the `nikola new_post [options] [path]` command.  \n",
    "\n",
    "Incorporating a new post with the Jupyter notebook page looks something like this format:  \n",
    "\n",
    "`nikola new_post -t <title of the post> -f <format> --tags <tags that describe the post> -i <import file.ipynb>`\n",
    "\n",
    "Example:  \n",
    "\n",
    "`nikola new_post -t \"Helloish World\" -f ipynb --tags \"new,hello world,first post\" -i ../helloworld.ipynb`\n",
    "\n",
    "This gets the post copied into the source files of the local blog. Next these changes need to be built and incorporated into the existing HTML documents and structure. This is as simple as running:  \n",
    "`nikola build`\n",
    "\n",
    "Finally you can then preview these changes and the new post on the test server.  This command will load the test server and open a web browser to preview the site:  \n",
    "`nikola serve -b`\n",
    "\n",
    "### Depoly\n",
    "Deploying the new blog post changes to GitHub and updating the live site should now be as simple as running the command:  \n",
    "`nikola github_deploy`\n",
    "\n",
    "This will automatically commit the changes and push them to GitHub. It stores the source files in the `src` branch while pushing the front facing webpages to `main` as we set in the config file. A commit message can be added using the `-m` flag. In the future if the local copy of the site needs to be replaced or copied to a new location, simply clone the `src` branch from GitHub and begin the Write-Build-Deploy cycle again.\n",
    "\n",
    "\n",
    "---"
   ],
   "metadata": {
    "id": "tWOlBxoxQ20J"
   }
  },
  {
   "cell_type": "markdown",
   "source": [
    "## Final Thoughts\n",
    "So far I was able to customize the site the way I wanted. The Write-Build-Deploy work cycle seems to enable a smooth way to post to the site. I will continue using this setup to experiment with different formats and documenting my progress. Stay tuned!\n"
   ],
   "metadata": {
    "id": "6AFBu4ZpRWrQ"
   }
  }
 ],
 "metadata": {
  "colab": {
   "collapsed_sections": [],
   "name": "001-FirstPostNikolaSetup.ipynb",
   "provenance": []
  },
  "kernelspec": {
   "display_name": "Python 3",
   "name": "python3"
  },
  "language_info": {
   "name": "python"
  },
  "nikola": {
   "category": "",
   "date": "2021-10-06 18:31:57 UTC-06:00",
   "description": "",
   "link": "",
   "slug": "new-beginings-nikola-powered-bioinformatics-blog",
   "tags": "nikola, blog, jupyter, colab",
   "title": "New Beginings: Nikola Powered Bioinformatics Blog",
   "type": "text"
  }
 },
 "nbformat": 4,
 "nbformat_minor": 2
}