{
 "cells": [
  {
   "cell_type": "markdown",
   "id": "2eb58193",
   "metadata": {},
   "source": [
    "### Michael Kaufman\n",
    "Hello, I recently completed my PhD in a graduate program in Cell, Stem Cell, and Developmental Biology at the University of Colorado Anschutz Medical Campus. I am now working in a Bioinformatics focused post doc position. Along the course of my training I will be using this space to take notes and document my progress."
   ]
  }
 ],
 "metadata": {
  "interpreter": {
   "hash": "d125464505f4b628172a5fda883ee213865b4b83da53a81159f36460c53f5324"
  },
  "kernelspec": {
   "display_name": "Python 3.9.7 64-bit ('jupyterblog': conda)",
   "name": "python3"
  },
  "language_info": {
   "codemirror_mode": {
    "name": "ipython",
    "version": 3
   },
   "file_extension": ".py",
   "mimetype": "text/x-python",
   "name": "python",
   "nbconvert_exporter": "python",
   "pygments_lexer": "ipython3",
   "version": "3.9.7"
  },
  "nikola": {
   "category": "",
   "date": "2021-09-30 13:37:07 UTC-06:00",
   "description": "",
   "link": "",
   "slug": "about",
   "tags": "",
   "title": "About",
   "type": "text"
  }
 },
 "nbformat": 4,
 "nbformat_minor": 5
}
